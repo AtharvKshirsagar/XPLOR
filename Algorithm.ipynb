{
  "nbformat": 4,
  "nbformat_minor": 0,
  "metadata": {
    "colab": {
      "provenance": []
    },
    "kernelspec": {
      "name": "python3",
      "display_name": "Python 3"
    },
    "language_info": {
      "name": "python"
    }
  },
  "cells": [
    {
      "cell_type": "code",
      "execution_count": 25,
      "metadata": {
        "id": "nHdVfBvg6WQf"
      },
      "outputs": [],
      "source": [
        "#def calculate_personality_score(personality_answers):\n",
        " #   personality_values = {\n",
        "  #      'Strong introversion': -2,\n",
        "   #     'Mild introversion': -1,\n",
        "    #    'Neutral': 0,\n",
        "     #   'Mild extroversion': 1,\n",
        "      #  'Strong extroversion': 2\n",
        "    #}\n",
        "    #total_personality_score = sum(personality_values.get(answer, 0) for answer in personality_answers)\n",
        "    #personality_score = total_personality_score / len(personality_answers)\n",
        "    #return personality_score\n",
        "#3\n",
        "def calculate_city_score(city_answers):\n",
        "    city_values = {\n",
        "        'Mumbai': 0.7,\n",
        "        'Bangalore': 0.7,\n",
        "        'Delhi': 0.7,\n",
        "        'Other': 0.4\n",
        "    }\n",
        "    total_city_score = city_values[city_answers]\n",
        "    weighted_city_score = total_city_score \n",
        "    return weighted_city_score\n",
        "\n",
        "#12\n",
        "def calculate_baking_party_score(baking_party_answers):\n",
        "    baking_party_values = {\n",
        "        'Baking': {'ses':0.2,'p':0.2},\n",
        "        'Hosting': {'ses':0.9,'p':1}\n",
        "    }\n",
        "    return baking_party_values[baking_party_answers]['ses'],baking_party_values[baking_party_answers]['p']\n",
        "\n",
        "\n",
        "#15\n",
        "def calculate_rollercoaster_skydiving_score(rollercoaster_skydiving_answers):\n",
        "    rollercoaster_skydiving_values = {\n",
        "        'Roller Coaster': 0.1,\n",
        "        'Skydiving': 1\n",
        "    }\n",
        "    total_rollercoaster_skydiving_score = rollercoaster_skydiving_values[rollercoaster_skydiving_answers]\n",
        "    weighted_rollercoaster_skydiving_score = total_rollercoaster_skydiving_score \n",
        "    return weighted_rollercoaster_skydiving_score\n",
        "\n",
        "#16\n",
        "def calculate_art_gallery_street_festival_score(art_gallery_street_festival_answers):\n",
        "    art_gallery_street_festival_values = {\n",
        "        'Art Gallery': {'ses':0.6,'p':0.4},\n",
        "        'Street Stuff': {'ses':0.4,'p':0.6}\n",
        "    }\n",
        "    return art_gallery_street_festival_values[art_gallery_street_festival_answers]['ses'],art_gallery_street_festival_values[art_gallery_street_festival_answers]['p']\n",
        "\n",
        "#17\n",
        "def calculate_opera_comedy_show_score(opera_comedy_show_answers):\n",
        "    opera_comedy_show_values = {\n",
        "        'Opera': 0.9,\n",
        "        'Comedy': 0.1\n",
        "    }\n",
        "    total_opera_comedy_show_score = opera_comedy_show_values[opera_comedy_show_answers]\n",
        "    weighted_opera_comedy_show_score = total_opera_comedy_show_score \n",
        "\n",
        "    return weighted_opera_comedy_show_score\n",
        "\n",
        "#9\n",
        "def calculate_tourist_outings_score(tourist_outings_answers):\n",
        "   \n",
        "    if tourist_outings_answers ==0:\n",
        "        return 0.05\n",
        "    else:\n",
        "        return tourist_outings_answers/10 \n",
        "\n",
        "#4\n",
        "def pizza_tacos_score(answers):\n",
        "    if answers=='pizza':\n",
        "        return 1\n",
        "    elif answers=='None':\n",
        "        return 0\n",
        "    else:\n",
        "        return 0.1\n",
        "\n",
        "#5\n",
        "def friends_score(answers):\n",
        "    if answers=='Alone':\n",
        "        return 0.1\n",
        "    if answers=='with friends':\n",
        "        return 0.5\n",
        "    else: \n",
        "        return 1\n",
        "\n",
        "#6\n",
        "def sushi_tikka_score(answers):\n",
        "    if answers=='Sushi':\n",
        "        return 1\n",
        "    if answers=='Tikka':\n",
        "        return 0.1\n",
        "    else:\n",
        "        return 0\n",
        "\n",
        "#7\n",
        "def coffee_tea_score(answers):\n",
        "    if answers=='Coffee':\n",
        "        return 0.2\n",
        "    if answers=='Chai':\n",
        "        return 0.8\n",
        "    else:\n",
        "        return 0\n",
        "\n",
        "#8\n",
        "def sports_score(answers):\n",
        "    if answers=='Golf':\n",
        "        ses= 1\n",
        "        p=0.1\n",
        "        return ses,p\n",
        "    if answers=='Table Tennis' or answers=='Squash' or answers=='Badminton' or answers=='Tennis':\n",
        "        ses=0.5\n",
        "        p=0.2\n",
        "        return ses,p\n",
        "    if answers=='Football' or answers=='Basketball':\n",
        "        ses=0.5\n",
        "        p=1\n",
        "        return ses,p\n",
        "\n",
        "#11\n",
        "def board_movies_score(answers):\n",
        "    if answers=='Movies':\n",
        "        ses=0.1\n",
        "        p=0.8\n",
        "        return  ses, p\n",
        "    if answers=='Board Games':\n",
        "        ses=1\n",
        "        p=0.3\n",
        "        return  ses, p\n",
        "    else:\n",
        "        ses=0\n",
        "        p=0.5\n",
        "        return ses,p\n",
        "\n",
        "def calculate_personality_score(Answers):\n",
        "    personality_score = (pizza_tacos_score(Answers[3])+ friends_score(Answers[4])+ sports_score(Answers[7])[1]+calculate_tourist_outings_score(Answers[8])+board_movies_score(Answers[10])[1]+calculate_baking_party_score(Answers[11])[1]+ calculate_art_gallery_street_festival_score(Answers[15])[1])/7\n",
        "    return personality_score\n",
        "\n",
        "def ses_score(Ans):\n",
        "    score= (calculate_city_score(Ans[2]) + sushi_tikka_score(Ans[5])+sports_score(Ans[7])[0]+board_movies_score(Ans[10])[0]+calculate_baking_party_score(Ans[11])[0]+calculate_rollercoaster_skydiving_score(Ans[14])+calculate_art_gallery_street_festival_score(Ans[15])[0]+calculate_opera_comedy_show_score(Ans[16]))/8\n",
        "    return score\n",
        "def classify_person(ses_score, personality_score):\n",
        "    ses_ranges = {\n",
        "        (0, 0.25): 'Growing class',\n",
        "        (0.25, 0.5): 'Middle class',\n",
        "        (0.5, 0.75): 'Upper middle class',\n",
        "        (0.75, 1): 'Upper class'\n",
        "    }\n",
        "    personality_ranges = {\n",
        "        (0, 0.2): 'Strong introversion',\n",
        "        (0.2, 0.4): 'Mild introversion',\n",
        "        (0.4, 0.6): 'Neutral',\n",
        "        (0.6, 0.8): 'Mild extroversion',\n",
        "        (0.8, 1): 'Strong extroversion'\n",
        "    }\n",
        "\n",
        "    ses_category = next(category for (start, end), category in ses_ranges.items() if start <= ses_score < end)\n",
        "    personality_category = next(category for (start, end), category in personality_ranges.items() if start <= personality_score < end)\n",
        "\n",
        "    return ses_category, personality_category\n",
        "\n",
        "    \n",
        "\n",
        "\n"
      ]
    },
    {
      "cell_type": "code",
      "source": [
        "Answers[7]"
      ],
      "metadata": {
        "colab": {
          "base_uri": "https://localhost:8080/",
          "height": 36
        },
        "id": "DmC7k_Ia7B_H",
        "outputId": "dd13c480-4d56-4d7d-f883-3fcd619f3f34"
      },
      "execution_count": 16,
      "outputs": [
        {
          "output_type": "execute_result",
          "data": {
            "text/plain": [
              "'Table Tennis'"
            ],
            "application/vnd.google.colaboratory.intrinsic+json": {
              "type": "string"
            }
          },
          "metadata": {},
          "execution_count": 16
        }
      ]
    },
    {
      "cell_type": "code",
      "source": [
        "\n",
        "Answers=['Name','Age','Other','pizza','Alone','Tikka','Coffee','Table Tennis',4,'Beaches', 'Movies', 'Baking', 'Paintball', 'Podacast', 'Roller Coaster','Art Gallery', \"Opera\"]\n",
        "\n",
        "personality_score =calculate_personality_score(Answers)\n",
        "ses_score=ses_score(Answers)\n",
        "\n",
        "ses_category,personality_category= classify_person(ses_score,personality_score)\n",
        "\n",
        "print(f\"Socio-economic status category: {ses_category}\")\n",
        "print(f\"Personality category: {personality_category}\")"
      ],
      "metadata": {
        "colab": {
          "base_uri": "https://localhost:8080/"
        },
        "id": "X5dWK91x6i8R",
        "outputId": "c4448df2-4d17-4573-ea99-820a2e706f99"
      },
      "execution_count": 26,
      "outputs": [
        {
          "output_type": "stream",
          "name": "stdout",
          "text": [
            "Socio-economic status category: Middle class\n",
            "Personality category: Neutral\n"
          ]
        }
      ]
    },
    {
      "cell_type": "code",
      "source": [],
      "metadata": {
        "id": "Wm1BmmRa6nPk"
      },
      "execution_count": null,
      "outputs": []
    }
  ]
}